{
 "cells": [
  {
   "cell_type": "code",
   "execution_count": 1,
   "id": "d16b46ea",
   "metadata": {},
   "outputs": [],
   "source": [
    "import numpy as np\n",
    "import pandas as pd\n",
    "import seaborn as sns\n",
    "import matplotlib.pyplot as plt"
   ]
  },
  {
   "cell_type": "markdown",
   "id": "d7ac747b",
   "metadata": {},
   "source": [
    "## STEP 1: Load the Data"
   ]
  },
  {
   "cell_type": "code",
   "execution_count": 2,
   "id": "4abe15d0",
   "metadata": {},
   "outputs": [],
   "source": [
    "data = pd.read_csv(r\"tips.csv\")"
   ]
  },
  {
   "cell_type": "code",
   "execution_count": 3,
   "id": "bfa03894",
   "metadata": {},
   "outputs": [
    {
     "data": {
      "text/html": [
       "<div>\n",
       "<style scoped>\n",
       "    .dataframe tbody tr th:only-of-type {\n",
       "        vertical-align: middle;\n",
       "    }\n",
       "\n",
       "    .dataframe tbody tr th {\n",
       "        vertical-align: top;\n",
       "    }\n",
       "\n",
       "    .dataframe thead th {\n",
       "        text-align: right;\n",
       "    }\n",
       "</style>\n",
       "<table border=\"1\" class=\"dataframe\">\n",
       "  <thead>\n",
       "    <tr style=\"text-align: right;\">\n",
       "      <th></th>\n",
       "      <th>order_id</th>\n",
       "      <th>day</th>\n",
       "      <th>time</th>\n",
       "      <th>size</th>\n",
       "      <th>smoker</th>\n",
       "      <th>sex</th>\n",
       "      <th>total_bill</th>\n",
       "      <th>tip</th>\n",
       "    </tr>\n",
       "  </thead>\n",
       "  <tbody>\n",
       "    <tr>\n",
       "      <th>67</th>\n",
       "      <td>68</td>\n",
       "      <td>Sat</td>\n",
       "      <td>Dinner</td>\n",
       "      <td>1</td>\n",
       "      <td>Yes</td>\n",
       "      <td>Female</td>\n",
       "      <td>3.07</td>\n",
       "      <td>1.00</td>\n",
       "    </tr>\n",
       "    <tr>\n",
       "      <th>189</th>\n",
       "      <td>190</td>\n",
       "      <td>Sun</td>\n",
       "      <td>Dinner</td>\n",
       "      <td>3</td>\n",
       "      <td>Yes</td>\n",
       "      <td>Male</td>\n",
       "      <td>23.10</td>\n",
       "      <td>4.00</td>\n",
       "    </tr>\n",
       "    <tr>\n",
       "      <th>74</th>\n",
       "      <td>75</td>\n",
       "      <td>Sat</td>\n",
       "      <td>Dinner</td>\n",
       "      <td>2</td>\n",
       "      <td>No</td>\n",
       "      <td>Female</td>\n",
       "      <td>14.73</td>\n",
       "      <td>2.20</td>\n",
       "    </tr>\n",
       "    <tr>\n",
       "      <th>14</th>\n",
       "      <td>15</td>\n",
       "      <td>Sun</td>\n",
       "      <td>Dinner</td>\n",
       "      <td>2</td>\n",
       "      <td>No</td>\n",
       "      <td>Female</td>\n",
       "      <td>14.83</td>\n",
       "      <td>3.02</td>\n",
       "    </tr>\n",
       "    <tr>\n",
       "      <th>144</th>\n",
       "      <td>145</td>\n",
       "      <td>Thur</td>\n",
       "      <td>Lunch</td>\n",
       "      <td>2</td>\n",
       "      <td>No</td>\n",
       "      <td>Female</td>\n",
       "      <td>16.43</td>\n",
       "      <td>2.30</td>\n",
       "    </tr>\n",
       "    <tr>\n",
       "      <th>121</th>\n",
       "      <td>122</td>\n",
       "      <td>Thur</td>\n",
       "      <td>Lunch</td>\n",
       "      <td>2</td>\n",
       "      <td>No</td>\n",
       "      <td>Female</td>\n",
       "      <td>13.42</td>\n",
       "      <td>1.68</td>\n",
       "    </tr>\n",
       "    <tr>\n",
       "      <th>130</th>\n",
       "      <td>131</td>\n",
       "      <td>Thur</td>\n",
       "      <td>Lunch</td>\n",
       "      <td>2</td>\n",
       "      <td>No</td>\n",
       "      <td>Male</td>\n",
       "      <td>19.08</td>\n",
       "      <td>1.50</td>\n",
       "    </tr>\n",
       "    <tr>\n",
       "      <th>46</th>\n",
       "      <td>47</td>\n",
       "      <td>Sun</td>\n",
       "      <td>Dinner</td>\n",
       "      <td>2</td>\n",
       "      <td>No</td>\n",
       "      <td>Male</td>\n",
       "      <td>22.23</td>\n",
       "      <td>5.00</td>\n",
       "    </tr>\n",
       "    <tr>\n",
       "      <th>91</th>\n",
       "      <td>92</td>\n",
       "      <td>Fri</td>\n",
       "      <td>Dinner</td>\n",
       "      <td>2</td>\n",
       "      <td>No</td>\n",
       "      <td>Male</td>\n",
       "      <td>22.49</td>\n",
       "      <td>3.50</td>\n",
       "    </tr>\n",
       "    <tr>\n",
       "      <th>224</th>\n",
       "      <td>225</td>\n",
       "      <td>Fri</td>\n",
       "      <td>Lunch</td>\n",
       "      <td>2</td>\n",
       "      <td>Yes</td>\n",
       "      <td>Male</td>\n",
       "      <td>13.42</td>\n",
       "      <td>1.58</td>\n",
       "    </tr>\n",
       "  </tbody>\n",
       "</table>\n",
       "</div>"
      ],
      "text/plain": [
       "     order_id   day    time  size smoker     sex  total_bill   tip\n",
       "67         68   Sat  Dinner     1    Yes  Female        3.07  1.00\n",
       "189       190   Sun  Dinner     3    Yes    Male       23.10  4.00\n",
       "74         75   Sat  Dinner     2     No  Female       14.73  2.20\n",
       "14         15   Sun  Dinner     2     No  Female       14.83  3.02\n",
       "144       145  Thur   Lunch     2     No  Female       16.43  2.30\n",
       "121       122  Thur   Lunch     2     No  Female       13.42  1.68\n",
       "130       131  Thur   Lunch     2     No    Male       19.08  1.50\n",
       "46         47   Sun  Dinner     2     No    Male       22.23  5.00\n",
       "91         92   Fri  Dinner     2     No    Male       22.49  3.50\n",
       "224       225   Fri   Lunch     2    Yes    Male       13.42  1.58"
      ]
     },
     "execution_count": 3,
     "metadata": {},
     "output_type": "execute_result"
    }
   ],
   "source": [
    "#Copy the data to avoid manipulting original dataset\n",
    "df = data.copy()\n",
    "df.sample(10)"
   ]
  },
  {
   "cell_type": "code",
   "execution_count": 4,
   "id": "8a788a2b",
   "metadata": {},
   "outputs": [
    {
     "data": {
      "text/plain": [
       "(244, 8)"
      ]
     },
     "execution_count": 4,
     "metadata": {},
     "output_type": "execute_result"
    }
   ],
   "source": [
    "#Know the shape of the dataset\n",
    "df.shape"
   ]
  },
  {
   "cell_type": "markdown",
   "id": "7eed750d",
   "metadata": {},
   "source": [
    "## Step 2: Understand the data\n",
    "- This dataset is about a restaurant, showing the total bill of each customer's order and the tips given by them with the day and time of order and the customer's characteristics\n",
    "\n",
    "#### Determine the problem statement or insight to get from the data\n",
    "There are no problems here to solve but we can get insight to improve business performance\n",
    "- We can determine the time or the days of the week the restaurant have more sales using total bill\n",
    "- We can also determine if customer characteristics affects sales i.e wether male or female gender order more or pays more bill or if smokers order more\n",
    "- we can also determine if time, day, gender affect the size of order\n",
    "- we can also determine the attribute that affects tips given by customers\n",
    "\n",
    "In general my main concern is the tips,total_bill and size of order. I want to know what affect these variables.\n",
    "Knowing this can improve the restaurant in the following ways:\n",
    "- Knowing what the days or time in which there more customers can help the restaurant keep track of inventory, to avoid food spoilage from unsold food on days with less order and also can reduce out of stock on days with more customers which can yeild to more revenues\n",
    "- Knowing what affect the total bill can increase revenue by leveraging more on it\n",
    "- knwing what affect the tip and leveraging on it can increase employees income and can help in making shift decision(if any), so all employees can get fair share of it\n",
    "\n",
    "#### Determine the target variable\n",
    "- The target variable here is Total_bill"
   ]
  },
  {
   "cell_type": "code",
   "execution_count": 5,
   "id": "5995e4ee",
   "metadata": {},
   "outputs": [
    {
     "data": {
      "text/html": [
       "<div>\n",
       "<style scoped>\n",
       "    .dataframe tbody tr th:only-of-type {\n",
       "        vertical-align: middle;\n",
       "    }\n",
       "\n",
       "    .dataframe tbody tr th {\n",
       "        vertical-align: top;\n",
       "    }\n",
       "\n",
       "    .dataframe thead th {\n",
       "        text-align: right;\n",
       "    }\n",
       "</style>\n",
       "<table border=\"1\" class=\"dataframe\">\n",
       "  <thead>\n",
       "    <tr style=\"text-align: right;\">\n",
       "      <th></th>\n",
       "      <th>order_id</th>\n",
       "      <th>size</th>\n",
       "      <th>total_bill</th>\n",
       "      <th>tip</th>\n",
       "    </tr>\n",
       "  </thead>\n",
       "  <tbody>\n",
       "    <tr>\n",
       "      <th>count</th>\n",
       "      <td>244.000000</td>\n",
       "      <td>244.000000</td>\n",
       "      <td>244.000000</td>\n",
       "      <td>244.000000</td>\n",
       "    </tr>\n",
       "    <tr>\n",
       "      <th>mean</th>\n",
       "      <td>122.500000</td>\n",
       "      <td>2.569672</td>\n",
       "      <td>19.785943</td>\n",
       "      <td>2.998279</td>\n",
       "    </tr>\n",
       "    <tr>\n",
       "      <th>std</th>\n",
       "      <td>70.580923</td>\n",
       "      <td>0.951100</td>\n",
       "      <td>8.902412</td>\n",
       "      <td>1.383638</td>\n",
       "    </tr>\n",
       "    <tr>\n",
       "      <th>min</th>\n",
       "      <td>1.000000</td>\n",
       "      <td>1.000000</td>\n",
       "      <td>3.070000</td>\n",
       "      <td>1.000000</td>\n",
       "    </tr>\n",
       "    <tr>\n",
       "      <th>25%</th>\n",
       "      <td>61.750000</td>\n",
       "      <td>2.000000</td>\n",
       "      <td>13.347500</td>\n",
       "      <td>2.000000</td>\n",
       "    </tr>\n",
       "    <tr>\n",
       "      <th>50%</th>\n",
       "      <td>122.500000</td>\n",
       "      <td>2.000000</td>\n",
       "      <td>17.795000</td>\n",
       "      <td>2.900000</td>\n",
       "    </tr>\n",
       "    <tr>\n",
       "      <th>75%</th>\n",
       "      <td>183.250000</td>\n",
       "      <td>3.000000</td>\n",
       "      <td>24.127500</td>\n",
       "      <td>3.562500</td>\n",
       "    </tr>\n",
       "    <tr>\n",
       "      <th>max</th>\n",
       "      <td>244.000000</td>\n",
       "      <td>6.000000</td>\n",
       "      <td>50.810000</td>\n",
       "      <td>10.000000</td>\n",
       "    </tr>\n",
       "  </tbody>\n",
       "</table>\n",
       "</div>"
      ],
      "text/plain": [
       "         order_id        size  total_bill         tip\n",
       "count  244.000000  244.000000  244.000000  244.000000\n",
       "mean   122.500000    2.569672   19.785943    2.998279\n",
       "std     70.580923    0.951100    8.902412    1.383638\n",
       "min      1.000000    1.000000    3.070000    1.000000\n",
       "25%     61.750000    2.000000   13.347500    2.000000\n",
       "50%    122.500000    2.000000   17.795000    2.900000\n",
       "75%    183.250000    3.000000   24.127500    3.562500\n",
       "max    244.000000    6.000000   50.810000   10.000000"
      ]
     },
     "execution_count": 5,
     "metadata": {},
     "output_type": "execute_result"
    }
   ],
   "source": [
    "df.describe()"
   ]
  },
  {
   "cell_type": "markdown",
   "id": "c7c509ea",
   "metadata": {},
   "source": [
    "- The minimum tips given by customer is \\\\$1, maximum is \\\\$10, and the average is \\$2.9\n",
    "- More custoners give tips above \\$3.5\n",
    "- The minimum total bill of customer is \\\\$3.07, maximum is \\\\$50.81 and the average is \\\\$17.80\n",
    "- The minum number of customer on a table is 1 and maximum is 6 and its more common for 3 people to sit on a table\n"
   ]
  },
  {
   "cell_type": "markdown",
   "id": "98b3ad29",
   "metadata": {},
   "source": [
    "## Step 3: Explore the data to find errors"
   ]
  },
  {
   "cell_type": "markdown",
   "id": "2e72ab9d",
   "metadata": {},
   "source": [
    "#### 3a. Check for duplicates"
   ]
  },
  {
   "cell_type": "code",
   "execution_count": 6,
   "id": "6c009882",
   "metadata": {},
   "outputs": [
    {
     "data": {
      "text/plain": [
       "0"
      ]
     },
     "execution_count": 6,
     "metadata": {},
     "output_type": "execute_result"
    }
   ],
   "source": [
    "df.duplicated().sum()"
   ]
  },
  {
   "cell_type": "markdown",
   "id": "a46f53b4",
   "metadata": {},
   "source": [
    "###### There are no duplicate values in the dataset"
   ]
  },
  {
   "cell_type": "markdown",
   "id": "fd4c494c",
   "metadata": {},
   "source": [
    "#### 3b. Check for missing values"
   ]
  },
  {
   "cell_type": "code",
   "execution_count": 7,
   "id": "c7238d7a",
   "metadata": {},
   "outputs": [
    {
     "data": {
      "text/plain": [
       "order_id      0\n",
       "day           0\n",
       "time          0\n",
       "size          0\n",
       "smoker        0\n",
       "sex           0\n",
       "total_bill    0\n",
       "tip           0\n",
       "dtype: int64"
      ]
     },
     "execution_count": 7,
     "metadata": {},
     "output_type": "execute_result"
    }
   ],
   "source": [
    "df.isnull().sum()"
   ]
  },
  {
   "cell_type": "markdown",
   "id": "4ebba580",
   "metadata": {},
   "source": [
    "###### There are no missing values"
   ]
  },
  {
   "cell_type": "markdown",
   "id": "1fb2e081",
   "metadata": {},
   "source": [
    "#### 3c. Check data type of each variable to check if there are any inconsistencies"
   ]
  },
  {
   "cell_type": "code",
   "execution_count": 8,
   "id": "ec72c299",
   "metadata": {},
   "outputs": [
    {
     "name": "stdout",
     "output_type": "stream",
     "text": [
      "<class 'pandas.core.frame.DataFrame'>\n",
      "RangeIndex: 244 entries, 0 to 243\n",
      "Data columns (total 8 columns):\n",
      " #   Column      Non-Null Count  Dtype  \n",
      "---  ------      --------------  -----  \n",
      " 0   order_id    244 non-null    int64  \n",
      " 1   day         244 non-null    object \n",
      " 2   time        244 non-null    object \n",
      " 3   size        244 non-null    int64  \n",
      " 4   smoker      244 non-null    object \n",
      " 5   sex         244 non-null    object \n",
      " 6   total_bill  244 non-null    float64\n",
      " 7   tip         244 non-null    float64\n",
      "dtypes: float64(2), int64(2), object(4)\n",
      "memory usage: 15.4+ KB\n"
     ]
    }
   ],
   "source": [
    "df.info()"
   ]
  },
  {
   "cell_type": "markdown",
   "id": "bb9e9202",
   "metadata": {},
   "source": [
    "###### There are no issues with the data type of each variables"
   ]
  },
  {
   "cell_type": "markdown",
   "id": "cbe84e2d",
   "metadata": {},
   "source": [
    "#### 3d. Check unique values to know if there are any formatting issues and to gain more insight on each variable"
   ]
  },
  {
   "cell_type": "code",
   "execution_count": 9,
   "id": "2e74d0a2",
   "metadata": {},
   "outputs": [
    {
     "data": {
      "text/plain": [
       "array(['Sun', 'Sat', 'Thur', 'Fri'], dtype=object)"
      ]
     },
     "execution_count": 9,
     "metadata": {},
     "output_type": "execute_result"
    }
   ],
   "source": [
    "df['day'].unique()\n",
    "#there are no format errors\n",
    "#customers visits the restaurant 4 times a week"
   ]
  },
  {
   "cell_type": "code",
   "execution_count": 10,
   "id": "b3d74df2",
   "metadata": {},
   "outputs": [
    {
     "data": {
      "text/plain": [
       "array(['Dinner', 'Lunch'], dtype=object)"
      ]
     },
     "execution_count": 10,
     "metadata": {},
     "output_type": "execute_result"
    }
   ],
   "source": [
    "df['time'].unique()\n",
    "#there are no format errors\n",
    "#the restaurant only serve during lunch and dinner time"
   ]
  },
  {
   "cell_type": "code",
   "execution_count": 11,
   "id": "9fe40018",
   "metadata": {},
   "outputs": [
    {
     "data": {
      "text/plain": [
       "array(['No', 'Yes'], dtype=object)"
      ]
     },
     "execution_count": 11,
     "metadata": {},
     "output_type": "execute_result"
    }
   ],
   "source": [
    "df['smoker'].unique()\n",
    "#there are no format errors"
   ]
  },
  {
   "cell_type": "code",
   "execution_count": 12,
   "id": "3f0663d6",
   "metadata": {},
   "outputs": [
    {
     "data": {
      "text/plain": [
       "array(['Female', 'Male'], dtype=object)"
      ]
     },
     "execution_count": 12,
     "metadata": {},
     "output_type": "execute_result"
    }
   ],
   "source": [
    "df['sex'].unique()\n",
    "#there are no format errors"
   ]
  },
  {
   "cell_type": "markdown",
   "id": "95687735",
   "metadata": {},
   "source": [
    "#### There are no errors or issues with the data which means it is clean"
   ]
  },
  {
   "cell_type": "markdown",
   "id": "fffc56cc",
   "metadata": {},
   "source": [
    "### Step 4: Analyze and Visualize the data"
   ]
  },
  {
   "cell_type": "markdown",
   "id": "df6fabce",
   "metadata": {},
   "source": [
    "### 4a. Univariant Analysis"
   ]
  },
  {
   "cell_type": "code",
   "execution_count": 317,
   "id": "7848ea8f",
   "metadata": {},
   "outputs": [
    {
     "data": {
      "image/png": "[encoded data removed]",
      "text/plain": [
       "<Figure size 360x360 with 1 Axes>"
      ]
     },
     "metadata": {
      "needs_background": "light"
     },
     "output_type": "display_data"
    }
   ],
   "source": [
    "sns.displot(df, x=\"sex\", color='brown')\n",
    "plt.title(\"Customer's Sex\");\n",
    "plt.ylabel(\"Count of Sex\");"
   ]
  },
  {
   "cell_type": "markdown",
   "id": "4857728b",
   "metadata": {},
   "source": [
    "#### Male gender pays bills more often than the Female"
   ]
  },
  {
   "cell_type": "code",
   "execution_count": 318,
   "id": "f87eb779",
   "metadata": {},
   "outputs": [
    {
     "data": {
      "image/png": "[encoded data removed]",
      "text/plain": [
       "<Figure size 360x360 with 1 Axes>"
      ]
     },
     "metadata": {
      "needs_background": "light"
     },
     "output_type": "display_data"
    }
   ],
   "source": [
    "sns.displot(df, x=\"time\", color='brown')\n",
    "plt.title(\"Customer time of visit\");\n",
    "plt.ylabel(\"Frequency\");\n",
    "plt.xlabel(\"Day time\");"
   ]
  },
  {
   "cell_type": "markdown",
   "id": "16d69add",
   "metadata": {},
   "source": [
    "#### More customers visit the at Dinner time than Lunch time, we can make any recommendation with this as we don't know if these affects our target variable"
   ]
  },
  {
   "cell_type": "code",
   "execution_count": 319,
   "id": "e88c167e",
   "metadata": {},
   "outputs": [
    {
     "data": {
      "image/png": "[encoded data removed]",
      "text/plain": [
       "<Figure size 360x360 with 1 Axes>"
      ]
     },
     "metadata": {
      "needs_background": "light"
     },
     "output_type": "display_data"
    }
   ],
   "source": [
    "sns.displot(df, x=\"day\", color='brown')\n",
    "plt.title(\"Customer Day of visit\");\n",
    "plt.ylabel(\"Frequency\");\n",
    "plt.xlabel(\"Weekday\");"
   ]
  },
  {
   "cell_type": "markdown",
   "id": "1f8090ac",
   "metadata": {},
   "source": [
    "#### More customers visit the restaurant more on saturdays than every other days"
   ]
  },
  {
   "cell_type": "code",
   "execution_count": 320,
   "id": "5a1e6b1c",
   "metadata": {},
   "outputs": [
    {
     "data": {
      "image/png": "[encoded data removed]",
      "text/plain": [
       "<Figure size 360x360 with 1 Axes>"
      ]
     },
     "metadata": {
      "needs_background": "light"
     },
     "output_type": "display_data"
    }
   ],
   "source": [
    "sns.displot(df, x=\"smoker\", color='brown')\n",
    "plt.title(\"Smoker\");\n",
    "plt.ylabel(\"Frequency\");\n",
    "plt.xlabel(\"smoker\");"
   ]
  },
  {
   "cell_type": "markdown",
   "id": "a7c579a7",
   "metadata": {},
   "source": [
    "#### Most tables does not include smokers"
   ]
  },
  {
   "cell_type": "markdown",
   "id": "c2830b3e",
   "metadata": {},
   "source": [
    "We can't make decision with univariate analysis as this doesn't show any correclation with our target variable, this is just for descriptive analysis to gain more insight on the variables"
   ]
  },
  {
   "cell_type": "markdown",
   "id": "cb4a3344",
   "metadata": {},
   "source": [
    "### 4b. Multivariant Analysis"
   ]
  },
  {
   "cell_type": "markdown",
   "id": "62c46fb0",
   "metadata": {},
   "source": [
    "- We already determined that we'll be looking intoto be size, total_bills and tips\n",
    "- We'll use bivariant analysis to determine how different variables affect our target varable\n",
    "- we can use this to make decision that can improve business pocesses, reduce cost and increase revenue"
   ]
  },
  {
   "cell_type": "markdown",
   "id": "8c3a2c10",
   "metadata": {},
   "source": [
    "What are the factors that affects the restaurant's revenue (total_bills)"
   ]
  },
  {
   "cell_type": "code",
   "execution_count": 300,
   "id": "1b0c7279",
   "metadata": {
    "scrolled": false
   },
   "outputs": [
    {
     "name": "stderr",
     "output_type": "stream",
     "text": [
      "C:\\Users\\DELL\\AppData\\Local\\Temp/ipykernel_14844/3059732884.py:1: FutureWarning: The default value of numeric_only in DataFrame.corr is deprecated. In a future version, it will default to False. Select only valid columns or specify the value of numeric_only to silence this warning.\n",
      "  corr_mat = df.corr()\n"
     ]
    },
    {
     "data": {
      "image/png": "[encoded data removed]",
      "text/plain": [
       "<Figure size 432x288 with 2 Axes>"
      ]
     },
     "metadata": {
      "needs_background": "light"
     },
     "output_type": "display_data"
    }
   ],
   "source": [
    "corr_mat = df.corr()\n",
    "sns.heatmap(data=corr_mat, annot = True, vmin=-1, cmap = \"Spectral\");"
   ]
  },
  {
   "cell_type": "markdown",
   "id": "57b64198",
   "metadata": {},
   "source": [
    "- Size and tip have high correlation with total_bill"
   ]
  },
  {
   "cell_type": "code",
   "execution_count": 322,
   "id": "d84963c9",
   "metadata": {},
   "outputs": [
    {
     "data": {
      "image/png": "[encoded data removed]",
      "text/plain": [
       "<Figure size 360x360 with 1 Axes>"
      ]
     },
     "metadata": {
      "needs_background": "light"
     },
     "output_type": "display_data"
    }
   ],
   "source": [
    "sns.lmplot(y = \"tip\", x = \"total_bill\", data=df, fit_reg=False);"
   ]
  },
  {
   "cell_type": "markdown",
   "id": "b27d77e8",
   "metadata": {},
   "source": [
    "- I used this to determine the effect of total_bill on tips\n",
    "- It has positive(almost) linear effect; which means the higher the total bill, the higher the tip.\n",
    "- There are some few exceptions here i.e some customer can give low tips even with high total bill"
   ]
  },
  {
   "cell_type": "code",
   "execution_count": 303,
   "id": "a3b29371",
   "metadata": {},
   "outputs": [
    {
     "data": {
      "image/png": "[encoded data removed]",
      "text/plain": [
       "<Figure size 360x360 with 1 Axes>"
      ]
     },
     "metadata": {
      "needs_background": "light"
     },
     "output_type": "display_data"
    }
   ],
   "source": [
    "sns.lmplot(x = \"size\", y = \"total_bill\", data=df, fit_reg=False);"
   ]
  },
  {
   "cell_type": "markdown",
   "id": "979aa6b1",
   "metadata": {},
   "source": [
    "- I used this to determine the effect of size on total bill\n",
    "- Size has little effect on total as some table of 2 people can have total bill of 25 while table with 4 people can have total bill of 15\n",
    "- It has some effect also because the number of people on the table determines the minimum total bill e.g size of 2 have minimum of like like 8 total bill, size of 3 have minimum of 16 and so on. We can say the minimum bill is directly proportional to to size."
   ]
  },
  {
   "cell_type": "code",
   "execution_count": 133,
   "id": "fa59ab79",
   "metadata": {},
   "outputs": [
    {
     "data": {
      "image/png": "[encoded data removed]",
      "text/plain": [
       "<Figure size 432x288 with 1 Axes>"
      ]
     },
     "metadata": {
      "needs_background": "light"
     },
     "output_type": "display_data"
    }
   ],
   "source": [
    "billbysex = df.groupby(\"sex\")[\"total_bill\"].sum().sort_values(ascending = True)\n",
    "billbysex = billbysex.sort_index(level=['total_bill','sex'])\n",
    "billbysex_plot = sns.barplot(x = billbysex.index, y = billbysex.values)\n",
    "plt.title(\"Total Bill by Sex\");\n",
    "plt.ylabel(\"Total Bill\");\n",
    "plt.xlabel(\"Sex\");"
   ]
  },
  {
   "cell_type": "markdown",
   "id": "40df74c9",
   "metadata": {},
   "source": [
    "- Majority of people that pays the bill are men"
   ]
  },
  {
   "cell_type": "code",
   "execution_count": 182,
   "id": "c0603ff7",
   "metadata": {},
   "outputs": [
    {
     "data": {
      "image/png": "[encoded data removed]",
      "text/plain": [
       "<Figure size 360x360 with 1 Axes>"
      ]
     },
     "metadata": {
      "needs_background": "light"
     },
     "output_type": "display_data"
    }
   ],
   "source": [
    "sns.displot(x=\"smoker\", y=\"total_bill\",data=df.groupby('smoker')['total_bill'].sum().to_frame());\n",
    "plt.title(\"Total Bill by Smoker\");\n",
    "plt.ylabel(\"Total Bill\");\n",
    "plt.xlabel(\"Smoker\");"
   ]
  },
  {
   "cell_type": "markdown",
   "id": "d0a992ae",
   "metadata": {},
   "source": [
    "- Majority of the customers don't smoke"
   ]
  },
  {
   "cell_type": "code",
   "execution_count": 323,
   "id": "8dce6686",
   "metadata": {},
   "outputs": [
    {
     "data": {
      "image/png": "[encoded data removed]",
      "text/plain": [
       "<Figure size 432x288 with 1 Axes>"
      ]
     },
     "metadata": {
      "needs_background": "light"
     },
     "output_type": "display_data"
    }
   ],
   "source": [
    "billdt =df.groupby(['day', 'time']).agg(sum_totalbill =(\"total_bill\",'sum'))\n",
    "billdt = billdt.reset_index()\n",
    "sns.barplot(x=\"day\", y=\"sum_totalbill\", hue=\"time\", data=billdt);\n",
    "plt.title(\"Total Bill by Time and Day\");"
   ]
  },
  {
   "cell_type": "markdown",
   "id": "0af88525",
   "metadata": {},
   "source": [
    "- Most of the customer visit the restaurant on saturday and sunday during dinner time\n",
    "- On Thursdays, the majority of customers visit the restaurant for lunch"
   ]
  },
  {
   "cell_type": "code",
   "execution_count": 324,
   "id": "042138ee",
   "metadata": {},
   "outputs": [
    {
     "data": {
      "image/png": "[encoded data removed]",
      "text/plain": [
       "<Figure size 432x288 with 1 Axes>"
      ]
     },
     "metadata": {
      "needs_background": "light"
     },
     "output_type": "display_data"
    }
   ],
   "source": [
    "smokerdt =df.groupby(['day','smoker']).agg(sum_totalbill =(\"total_bill\",'sum'))\n",
    "smokerdt = smokerdt.reset_index()\n",
    "sns.barplot(x=\"day\", y=\"sum_totalbill\", hue=\"smoker\", data=smokerdt);\n",
    "plt.title(\"Total Bill by Day and Smoker\");"
   ]
  },
  {
   "cell_type": "code",
   "execution_count": 325,
   "id": "894f2216",
   "metadata": {},
   "outputs": [
    {
     "data": {
      "image/png": "[encoded data removed]",
      "text/plain": [
       "<Figure size 432x288 with 1 Axes>"
      ]
     },
     "metadata": {
      "needs_background": "light"
     },
     "output_type": "display_data"
    }
   ],
   "source": [
    "genderdt =df.groupby(['day','sex']).agg(sum_totalbill =(\"total_bill\",'sum'))\n",
    "genderdt = genderdt.reset_index()\n",
    "sns.barplot(x=\"day\", y=\"sum_totalbill\", hue=\"sex\", data=genderdt);\n",
    "plt.title(\"Total Bill by Day and Sex\");"
   ]
  },
  {
   "cell_type": "code",
   "execution_count": 328,
   "id": "4b372cec",
   "metadata": {},
   "outputs": [
    {
     "data": {
      "image/png": "[encoded data removed]",
      "text/plain": [
       "<Figure size 432x288 with 1 Axes>"
      ]
     },
     "metadata": {
      "needs_background": "light"
     },
     "output_type": "display_data"
    }
   ],
   "source": [
    "sizedt =df.groupby(['day','size']).agg(sum_totalbill =(\"total_bill\",'sum'))\n",
    "sizedt = sizedt.reset_index()\n",
    "sns.barplot(x=\"day\", y=\"sum_totalbill\", hue=\"size\", data=sizedt);\n",
    "plt.title(\"Total Bill by Day and Size\");"
   ]
  },
  {
   "cell_type": "markdown",
   "id": "44f2ae90",
   "metadata": {},
   "source": [
    "- The majority of customers who visit the restaurant come in groups of two. i.e of the size 2"
   ]
  },
  {
   "cell_type": "markdown",
   "id": "3f6458d6",
   "metadata": {},
   "source": [
    "### Step 5: Conclusion"
   ]
  },
  {
   "cell_type": "markdown",
   "id": "5272f12e",
   "metadata": {},
   "source": [
    "- More customers visits the restaurants on Saturdays and Sundays for Dinner\n",
    "- On thursdays most of the customers visit for lunch\n",
    "- Size of the table doesnt determine the total bill\n",
    "- Majority of the tables do not have smokers"
   ]
  },
  {
   "cell_type": "markdown",
   "id": "3d92e808",
   "metadata": {},
   "source": [
    "### Step 6: Recommendations"
   ]
  },
  {
   "cell_type": "markdown",
   "id": "ea620ef2",
   "metadata": {},
   "source": [
    "- I reccommend that more food should be available on saturdays and sundays \n",
    "- There should be very few food made for dinner to avoid wastage and more food should be made for lunch"
   ]
  }
 ],
 "metadata": {
  "kernelspec": {
   "display_name": "Python 3 (ipykernel)",
   "language": "python",
   "name": "python3"
  },
  "language_info": {
   "codemirror_mode": {
    "name": "ipython",
    "version": 3
   },
   "file_extension": ".py",
   "mimetype": "text/x-python",
   "name": "python",
   "nbconvert_exporter": "python",
   "pygments_lexer": "ipython3",
   "version": "3.9.7"
  }
 },
 "nbformat": 4,
 "nbformat_minor": 5
}
